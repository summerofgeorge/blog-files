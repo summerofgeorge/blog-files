{
 "cells": [
  {
   "cell_type": "code",
   "execution_count": 1,
   "id": "22bbac62",
   "metadata": {},
   "outputs": [],
   "source": [
    "import pandas as pd\n",
    "from openpyxl import Workbook\n",
    "from openpyxl.utils.dataframe import dataframe_to_rows\n",
    "\n",
    "# Create a new workbook and grab the active worksheet\n",
    "wb = Workbook()\n",
    "ws = wb.active"
   ]
  },
  {
   "cell_type": "code",
   "execution_count": 2,
   "id": "a687b151",
   "metadata": {},
   "outputs": [],
   "source": [
    "hello_world = ws['A1']\n",
    "hello_world.value = 'Hello, world'"
   ]
  },
  {
   "cell_type": "code",
   "execution_count": 3,
   "id": "a7a66f2f",
   "metadata": {},
   "outputs": [],
   "source": [
    "distance_to_moon = ws['A2']\n",
    "distance_to_moon.value = 238855"
   ]
  },
  {
   "cell_type": "code",
   "execution_count": 4,
   "id": "6502861b",
   "metadata": {},
   "outputs": [],
   "source": [
    "distance_to_moon.number_format = '#,###'"
   ]
  },
  {
   "cell_type": "code",
   "execution_count": 5,
   "id": "fb5b13fd",
   "metadata": {},
   "outputs": [],
   "source": [
    "cost_to_space = ws['A3']\n",
    "cost_to_space.value = 55000000\n",
    "cost_to_space.number_format = '$#,##0'"
   ]
  },
  {
   "cell_type": "code",
   "execution_count": 6,
   "id": "c82e5f66",
   "metadata": {},
   "outputs": [
    {
     "data": {
      "text/html": [
       "<div>\n",
       "<style scoped>\n",
       "    .dataframe tbody tr th:only-of-type {\n",
       "        vertical-align: middle;\n",
       "    }\n",
       "\n",
       "    .dataframe tbody tr th {\n",
       "        vertical-align: top;\n",
       "    }\n",
       "\n",
       "    .dataframe thead th {\n",
       "        text-align: right;\n",
       "    }\n",
       "</style>\n",
       "<table border=\"1\" class=\"dataframe\">\n",
       "  <thead>\n",
       "    <tr style=\"text-align: right;\">\n",
       "      <th></th>\n",
       "      <th>planet</th>\n",
       "      <th>distance_from_sun</th>\n",
       "      <th>distance_from_earth</th>\n",
       "      <th>percent_nitrogen</th>\n",
       "    </tr>\n",
       "  </thead>\n",
       "  <tbody>\n",
       "    <tr>\n",
       "      <th>0</th>\n",
       "      <td>Mercury</td>\n",
       "      <td>57.9</td>\n",
       "      <td>91.7</td>\n",
       "      <td>0.000</td>\n",
       "    </tr>\n",
       "    <tr>\n",
       "      <th>1</th>\n",
       "      <td>Venus</td>\n",
       "      <td>108.2</td>\n",
       "      <td>41.4</td>\n",
       "      <td>0.000</td>\n",
       "    </tr>\n",
       "    <tr>\n",
       "      <th>2</th>\n",
       "      <td>Earth</td>\n",
       "      <td>149.6</td>\n",
       "      <td>0.0</td>\n",
       "      <td>0.780</td>\n",
       "    </tr>\n",
       "    <tr>\n",
       "      <th>3</th>\n",
       "      <td>Mars</td>\n",
       "      <td>227.9</td>\n",
       "      <td>78.3</td>\n",
       "      <td>0.027</td>\n",
       "    </tr>\n",
       "    <tr>\n",
       "      <th>4</th>\n",
       "      <td>Jupiter</td>\n",
       "      <td>778.5</td>\n",
       "      <td>628.7</td>\n",
       "      <td>0.000</td>\n",
       "    </tr>\n",
       "    <tr>\n",
       "      <th>5</th>\n",
       "      <td>Saturn</td>\n",
       "      <td>1434.0</td>\n",
       "      <td>1275.0</td>\n",
       "      <td>0.000</td>\n",
       "    </tr>\n",
       "    <tr>\n",
       "      <th>6</th>\n",
       "      <td>Uranus</td>\n",
       "      <td>2871.0</td>\n",
       "      <td>2724.0</td>\n",
       "      <td>0.000</td>\n",
       "    </tr>\n",
       "    <tr>\n",
       "      <th>7</th>\n",
       "      <td>Neptune</td>\n",
       "      <td>4495.0</td>\n",
       "      <td>4351.0</td>\n",
       "      <td>0.000</td>\n",
       "    </tr>\n",
       "  </tbody>\n",
       "</table>\n",
       "</div>"
      ],
      "text/plain": [
       "    planet  distance_from_sun  distance_from_earth  percent_nitrogen\n",
       "0  Mercury               57.9                 91.7             0.000\n",
       "1    Venus              108.2                 41.4             0.000\n",
       "2    Earth              149.6                  0.0             0.780\n",
       "3     Mars              227.9                 78.3             0.027\n",
       "4  Jupiter              778.5                628.7             0.000\n",
       "5   Saturn             1434.0               1275.0             0.000\n",
       "6   Uranus             2871.0               2724.0             0.000\n",
       "7  Neptune             4495.0               4351.0             0.000"
      ]
     },
     "execution_count": 6,
     "metadata": {},
     "output_type": "execute_result"
    }
   ],
   "source": [
    "planets_df = pd.read_csv('https://raw.githubusercontent.com/stringfestdata/training-assets/master/datasets/planet_distances_from_earth.csv')\n",
    "planets_df"
   ]
  },
  {
   "cell_type": "code",
   "execution_count": 8,
   "id": "42c9f3a6",
   "metadata": {},
   "outputs": [],
   "source": [
    "# Write data out to DataFrame \n",
    "\n",
    "for r in dataframe_to_rows(planets_df, header=True, index=False):\n",
    "    ws.append(r)"
   ]
  },
  {
   "cell_type": "code",
   "execution_count": null,
   "id": "1928b9b7",
   "metadata": {},
   "outputs": [],
   "source": [
    "# Format all of columns B-C as number\n",
    "\n",
    "for cell in ws"
   ]
  },
  {
   "cell_type": "code",
   "execution_count": null,
   "id": "29ea9c0f",
   "metadata": {},
   "outputs": [],
   "source": [
    "# Save the workbook to a file\n",
    "wb.save('example.xlsx')"
   ]
  }
 ],
 "metadata": {
  "kernelspec": {
   "display_name": "Python 3 (ipykernel)",
   "language": "python",
   "name": "python3"
  },
  "language_info": {
   "codemirror_mode": {
    "name": "ipython",
    "version": 3
   },
   "file_extension": ".py",
   "mimetype": "text/x-python",
   "name": "python",
   "nbconvert_exporter": "python",
   "pygments_lexer": "ipython3",
   "version": "3.9.18"
  }
 },
 "nbformat": 4,
 "nbformat_minor": 5
}
